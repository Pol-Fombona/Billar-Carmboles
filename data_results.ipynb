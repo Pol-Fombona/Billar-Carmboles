{
 "cells": [
  {
   "cell_type": "code",
   "execution_count": 1,
   "metadata": {},
   "outputs": [],
   "source": [
    "import json\n",
    "import pandas as pd\n",
    "import numpy as np\n",
    "import matplotlib.pyplot as plt\n",
    "import seaborn as sns\n",
    "from positions import *"
   ]
  },
  {
   "cell_type": "code",
   "execution_count": 44,
   "metadata": {},
   "outputs": [],
   "source": [
    "with open('data.json', 'r') as j:\n",
    "    game_data = json.loads(j.read())"
   ]
  },
  {
   "cell_type": "code",
   "execution_count": 41,
   "metadata": {},
   "outputs": [],
   "source": [
    "for game in game_data:\n",
    "    for player in game.keys():\n",
    "        for turn in game[player].keys():\n",
    "            for status in game[player][turn].keys():\n",
    "                #print(status)\n",
    "                #print(game[player][turn][status])\n",
    "                break"
   ]
  },
  {
   "cell_type": "markdown",
   "metadata": {},
   "source": [
    "We want to create a heatmap, the map will be the billiards table. The dimensions of the heat map will be related to the coordinates of the heatmap, meaning that a \"square\" of the heatmap will be related to its position in the table."
   ]
  },
  {
   "cell_type": "code",
   "execution_count": 45,
   "metadata": {},
   "outputs": [],
   "source": [
    "# We need to have all the positions the spheres have been, in order to do this we will create a df with the positions\n",
    "positions = []\n",
    "for game in game_data:\n",
    "    for player in game.keys():\n",
    "        for turn in game[player].keys():\n",
    "            for status in game[player][turn].keys():\n",
    "                if status == 'played':\n",
    "                    for frame in game[player][turn][status].keys():\n",
    "                        for position in game[player][turn][status][frame]['sphere_position']:\n",
    "                            positions.append([int(position[0]), int(position[2])])\n",
    "                else:\n",
    "                    for position in game[player][turn][status]['sphere_position']:\n",
    "                        positions.append([int(position[0]), int(position[2])])\n",
    "\n",
    "positions_array = np.array(positions)"
   ]
  },
  {
   "cell_type": "code",
   "execution_count": 38,
   "metadata": {},
   "outputs": [
    {
     "name": "stdout",
     "output_type": "stream",
     "text": [
      "1680\n"
     ]
    }
   ],
   "source": [
    "print(len(positions_array))\n"
   ]
  },
  {
   "cell_type": "code",
   "execution_count": 59,
   "metadata": {},
   "outputs": [
    {
     "name": "stdout",
     "output_type": "stream",
     "text": [
      "(41, 83)\n"
     ]
    },
    {
     "data": {
      "image/png": "[encoded data removed]",
      "text/plain": [
       "<Figure size 640x480 with 2 Axes>"
      ]
     },
     "metadata": {},
     "output_type": "display_data"
    }
   ],
   "source": [
    "grid = [int(TABLE_WIDTH), int(TABLE_LENGTH)]\n",
    "grid = np.full(grid, 0.0)\n",
    "\n",
    "for pos in positions_array:\n",
    "    pos_final_x = int(TABLE_WIDTH) - pos[0]\n",
    "    pos_final_y = int(TABLE_LENGTH) - pos[1]\n",
    "    #if grid[pos_final_x, pos_final_y] > 0:\n",
    "    grid[pos_final_x, pos_final_y] += 0.1\n",
    "print(grid.shape)\n",
    "ax = sns.heatmap(grid, linewidth=0.4)\n",
    "plt.show()"
   ]
  },
  {
   "cell_type": "code",
   "execution_count": 9,
   "metadata": {},
   "outputs": [],
   "source": [
    "def total_shots(game_data, shots_correct = False):\n",
    "    sum_shots = 0\n",
    "    scored = 0\n",
    "    for game in game_data:\n",
    "        for player in game.keys():\n",
    "            for turn in game[player].keys():\n",
    "                for status in game[player][turn].keys():\n",
    "                    if status == 'ended':\n",
    "                        sum_shots += 1\n",
    "                        if game[player][turn][status]['scored'] == True:\n",
    "                            scored += 1\n",
    "    if shots_correct:\n",
    "        return sum_shots, scored\n",
    "    return sum_shots\n"
   ]
  },
  {
   "cell_type": "code",
   "execution_count": 10,
   "metadata": {},
   "outputs": [
    {
     "data": {
      "text/plain": [
       "(2, 0)"
      ]
     },
     "execution_count": 10,
     "metadata": {},
     "output_type": "execute_result"
    }
   ],
   "source": [
    "total_shots(game_data, shots_correct = True)"
   ]
  },
  {
   "cell_type": "code",
   "execution_count": 233,
   "metadata": {},
   "outputs": [],
   "source": [
    "def get_intermediate_positions(a, b, distance):\n",
    "    # Return list with intermediate positions when ball goes too fast\n",
    "\n",
    "    artificial_positions = []\n",
    "\n",
    "    intermediate_positions = int(10 * distance)\n",
    "\n",
    "    distance_to_add_x = (b[0] - a[0]) / intermediate_positions\n",
    "    distance_to_add_y = (b[1] - a[1]) / intermediate_positions\n",
    "    new_x, new_y = a[0], a[1]\n",
    "\n",
    "    for i in range(intermediate_positions):\n",
    "        new_x += distance_to_add_x\n",
    "        new_y += distance_to_add_y\n",
    "\n",
    "        artificial_positions.append((new_x, new_y))\n",
    "\n",
    "    return artificial_positions\n",
    "\n"
   ]
  },
  {
   "cell_type": "code",
   "execution_count": 207,
   "metadata": {},
   "outputs": [],
   "source": [
    "def get_position_list(df, cols = None):\n",
    "    # Returns a list that contains all positions from the spheres\n",
    "    # If cols == None, df only contains one column (one sphere only tracking)\n",
    "    # Else, track all spheres\n",
    "    # Only add the position if it is different from last (rounded to the first decimal)\n",
    "\n",
    "    positions_list = []\n",
    "\n",
    "\n",
    "    for column in cols:\n",
    "        # For every sphere\n",
    "\n",
    "        positions = list(df[column])\n",
    "        last_x, last_y = round(positions[0][0]), round(positions[0][2])\n",
    "        positions_list.append((last_x, last_y))\n",
    "\n",
    "        for position in positions[1:]:\n",
    "            # For every position of the sphere\n",
    "\n",
    "            x, y = round(position[0], 2), round(position[2], 2)\n",
    "\n",
    "            distance = get_distance((last_x, last_y), (x, y))\n",
    "            if distance > 0.1:\n",
    "                # If the sphere moves too fast, add intermediate positions\n",
    "\n",
    "                artificial_pos = get_intermediate_positions((last_x, last_y), (x, y), distance)\n",
    "\n",
    "                for pos in artificial_pos:\n",
    "                    x, y = round(pos[0], 2), round(pos[1], 2)\n",
    "\n",
    "                    if x != last_x or y != last_y:\n",
    "                        positions_list.append((int(x*10), int(y*10)))\n",
    "                        last_x, last_y = x, y\n",
    "\n",
    "            elif x != last_x or y != last_y:\n",
    "                # Only add if the sphere has moved significately\n",
    "                positions_list.append((int(x*10), int(y*10)))\n",
    "                last_x, last_y = x, y\n",
    "\n",
    "        \n",
    "    return positions_list\n",
    "\n",
    "\n",
    "def get_distance(a, b):\n",
    "    # Distance between two points\n",
    "\n",
    "    return round(((b[0] - a[0]) ** 2 + (b[1] - a[1]) ** 2) ** (1/2), 1)\n"
   ]
  },
  {
   "cell_type": "code",
   "execution_count": 429,
   "metadata": {},
   "outputs": [],
   "source": [
    "def plot_heatmap(positions, title = None):\n",
    "\n",
    "    # Grid size (heatmap correlation with table)\n",
    "    grid = [int(TABLE_WIDTH)*10, int(TABLE_LENGTH)*10]\n",
    "    grid = np.full(grid, 0.0)\n",
    "\n",
    "    for item in positions:\n",
    "        grid[item[0], item[1]] += 1\n",
    "\n",
    "    fig, ax = plt.subplots(1,1, figsize=(15, 15))\n",
    "\n",
    "    ax.imshow(grid, interpolation=\"quadric\", cmap='crest')\n",
    "\n",
    "    ax.set(xticklabels=[], yticklabels=[])\n",
    "    ax.set(xlabel=\"Table Width\", ylabel=\"Table Height\")\n",
    "    ax.invert_xaxis()\n",
    "    \n",
    "    if title != None:\n",
    "        ax.set(title=title)\n",
    "\n",
    "    plt.savefig(\"C:/Users/Admin/Desktop/4t/EGRA/Billar/Billar-Carmboles/GameData/Metrics/\" + \"Heatmap \" + title + \".png\",\n",
    "                    transparent = False, bbox_inches='tight')\n",
    "\n",
    "    plt.close()\n"
   ]
  },
  {
   "cell_type": "code",
   "execution_count": 522,
   "metadata": {},
   "outputs": [],
   "source": [
    "import pandas as pd\n",
    "import plotly.express as px\n",
    "import imageio\n",
    "import os\n",
    "\n",
    "def create_heamaps(data):\n",
    "\n",
    "    plt.ioff()\n",
    "\n",
    "    # Create turn heatmaps individually for every turn\n",
    "    turns = list(data[\"TurnCount\"].unique())\n",
    "    for turn in turns:\n",
    "        positions_list = get_position_list(data[data[\"TurnCount\"] == turn], cols=[\"Pos1\", \"Pos2\", \"Pos3\"])\n",
    "        plot_heatmap(positions=positions_list, title=\"Turn \" + str(turn))\n",
    "\n",
    "    # Create gif from heatmaps\n",
    "    path_temp = \"C:/Users/Admin/Desktop/4t/EGRA/Billar/Billar-Carmboles/GameData/Metrics/\"\n",
    "    turn_heatmaps = []\n",
    "    for file in os.listdir(path_temp):\n",
    "        turn_heatmaps.append(imageio.v2.imread(path_temp + file))\n",
    "    imageio.mimsave(path_temp + \"Evolution.gif\", turn_heatmaps, duration = 0.5)\n",
    "\n",
    "    # Create heatmap from entire match\n",
    "    positions_list = get_position_list(data, cols=[\"Pos1\", \"Pos2\", \"Pos3\"])\n",
    "    plot_heatmap(positions=positions_list, title=\"Entire Match\")"
   ]
  },
  {
   "cell_type": "code",
   "execution_count": 525,
   "metadata": {},
   "outputs": [],
   "source": [
    "def create_total_movement_graph(data):\n",
    "    # Creates a graph with total movement of spheres by player\n",
    "\n",
    "    sphere_cols = [\"Pos1\", \"Pos2\", \"Pos3\"]\n",
    "    sphere_names = [\"Yellow Ball\", \"White Ball\", \"Red Ball\"]\n",
    "\n",
    "    players = list(data[\"PlayerName\"].unique())\n",
    "\n",
    "    # Save total movement of sphere by player\n",
    "    spheres_movement = []\n",
    "\n",
    "    # Save total movement in turn by player\n",
    "    spheres_movement_by_turn = dict.fromkeys(players)\n",
    "    for player in players:\n",
    "        spheres_movement_by_turn[player] = {}\n",
    "        for sphere in sphere_cols:\n",
    "            spheres_movement_by_turn[player][sphere] = []\n",
    "\n",
    "    \n",
    "    for player in players:\n",
    "\n",
    "        player_data = data[data[\"PlayerName\"] == player]\n",
    "        \n",
    "        for sphere in sphere_cols:\n",
    "            sphere_data = player_data[sphere]\n",
    "            spheres_movement.append(get_sphere_total_movement(sphere_data))\n",
    "\n",
    "        turns = list(data[\"TurnCount\"].unique())\n",
    "        for turn in turns:\n",
    "\n",
    "            turn_data = player_data[player_data[\"TurnCount\"] == turn]\n",
    "\n",
    "            for sphere in sphere_cols:\n",
    "                sphere_data = turn_data[sphere]\n",
    "                spheres_movement_by_turn[player][sphere].append(get_sphere_total_movement(sphere_data))\n",
    "\n",
    "    # Create graph grid\n",
    "    fig = plt.figure(figsize=(20,20))\n",
    "    fig.suptitle('Sphere Data', size=25)\n",
    "    fig.subplots_adjust(top=0.94)\n",
    "    gs = fig.add_gridspec(2,2)\n",
    "    ax1 = fig.add_subplot(gs[0, 0])\n",
    "    ax2 = fig.add_subplot(gs[0, 1])\n",
    "    ax3 = fig.add_subplot(gs[1, :])\n",
    "    \n",
    "    movement_graph(spheres_movement, players, ax3)\n",
    "    boxplot_graph(spheres_movement_by_turn, players[0], ax1)\n",
    "    boxplot_graph(spheres_movement_by_turn, players[1], ax2)\n",
    "\n",
    "    plt.savefig(\"C:/Users/Admin/Desktop/4t/EGRA/Billar/Billar-Carmboles/GameData/Metrics/\" + \"sphere_data.png\")\n",
    "\n",
    "\n",
    "def boxplot_graph(data, player, ax):\n",
    "    # Create boxplot graph\n",
    "\n",
    "    # Boxplot explication https://stackoverflow.com/questions/38794406/why-is-matplotlibs-notched-boxplot-folding-back-on-itself\n",
    "\n",
    "    sphere_cols = [\"Pos1\", \"Pos2\", \"Pos3\"]\n",
    "    sphere_names = [\"Yellow Ball\", \"White Ball\", \"Red Ball\"]\n",
    "    x_axis = [1,2,3]\n",
    "\n",
    "    # Data\n",
    "    p_data = [data[player][sphere] for sphere in sphere_cols]\n",
    "\n",
    "    bp = ax.boxplot(p_data, sphere_names, patch_artist=True,showfliers=False)\n",
    "    ax.set(xticks=x_axis, xticklabels=sphere_names)\n",
    "    ax.grid(linestyle = '--', linewidth = 0.5, axis = 'y')\n",
    "    ax.set(title = \"Distance Taveled By Turn of '\" + player + \"'\")\n",
    "    ax.set(ylabel=\"Distance traveled (cm)\")\n",
    "\n",
    "    colors = ['#ffff00', '#ffffff',\n",
    "          '#ff0000']\n",
    " \n",
    "    for patch, color in zip(bp['boxes'], colors):\n",
    "        patch.set_facecolor(color)\n",
    "\n",
    "    return\n",
    "    \n",
    "\n",
    "def movement_graph(movement, players, ax):\n",
    "    # Show graph\n",
    "    \n",
    "    labels = [\"Yellow Ball\", \"White ball\", \"Red Ball\"]\n",
    "    x_axis = np.arange(len(labels))\n",
    "    x_ticks = [i for i in range(0,int(max(movement)) + 200, 100)]\n",
    "\n",
    "    #fig = plt.figure(figsize = (10, 5))\n",
    "    bars = ax.barh(x_axis - 0.1, movement[:3], height=0.2, color ='green', label = players[0],)\n",
    "    bars2 = ax.barh(x_axis + 0.1, movement[3:], height=0.2, color ='orange', label = players[1],)\n",
    "\n",
    "    ax.set(title=\"Total distance traveled\", xlabel=\"Distance (cm)\", ylabel=\"Spheres\", \n",
    "            yticks=x_axis, yticklabels=labels, xticks=x_ticks)\n",
    "    ax.legend(players,loc=\"upper right\")\n",
    "    ax.grid(linestyle = '--', linewidth = 0.5, axis = 'x')\n",
    "    ax.bar_label(bars, padding = 5, color='b', fontsize=14)\n",
    "    ax.bar_label(bars2, padding = 5, color='b', fontsize=14)\n",
    "\n",
    "\n",
    "def get_sphere_total_movement(data):\n",
    "    # Return total movement of sphere\n",
    "\n",
    "    positions = list(data)\n",
    "    total_movement = 0\n",
    "\n",
    "    for i in range(1, len(positions)):\n",
    "        total_movement += get_distance((positions[i-1][0], positions[i-1][2]), (positions[i][0], positions[i][2]))\n",
    "\n",
    "    return total_movement\n",
    "\n",
    "\n",
    "\n"
   ]
  },
  {
   "cell_type": "code",
   "execution_count": 526,
   "metadata": {},
   "outputs": [],
   "source": [
    "data = pd.read_pickle(\"test.pkl\")\n",
    "create_heamaps(data)\n",
    "create_total_movement_graph(data)"
   ]
  }
 ],
 "metadata": {
  "kernelspec": {
   "display_name": "Python 3",
   "language": "python",
   "name": "python3"
  },
  "language_info": {
   "codemirror_mode": {
    "name": "ipython",
    "version": 3
   },
   "file_extension": ".py",
   "mimetype": "text/x-python",
   "name": "python",
   "nbconvert_exporter": "python",
   "pygments_lexer": "ipython3",
   "version": "3.10.7"
  },
  "orig_nbformat": 4,
  "vscode": {
   "interpreter": {
    "hash": "a42ccb73e7d9bfdf27e036f1d2b8b681e55fc0743cc5586bc2474d4a60f4b886"
   }
  }
 },
 "nbformat": 4,
 "nbformat_minor": 2
}
