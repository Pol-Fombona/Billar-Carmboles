{
 "cells": [
  {
   "cell_type": "code",
   "execution_count": 46,
   "metadata": {},
   "outputs": [],
   "source": [
    "import json\n",
    "import pandas as pd\n",
    "import numpy as np\n",
    "import matplotlib.pyplot as plt\n",
    "import seaborn as sns\n",
    "from positions import *"
   ]
  },
  {
   "cell_type": "code",
   "execution_count": 67,
   "metadata": {},
   "outputs": [],
   "source": [
    "with open('data.json', 'r') as j:\n",
    "    game_data = json.loads(j.read())"
   ]
  },
  {
   "cell_type": "code",
   "execution_count": 69,
   "metadata": {},
   "outputs": [
    {
     "name": "stdout",
     "output_type": "stream",
     "text": [
      "{'sphere_position': [[10.0, 1.0, 10.0], [30.0, 1.0, 10.0], [20.0, 1.0, 60.0]], 'tir': {'angle': 0, 'potencia': [-6.75, 0.0, 0.0], 'sphere': [10.0, 1.0, 10.0]}}\n",
      "{'sphere_position': [[3.58017011816585, 1.0, 10.0], [34.19823186686186, 1.0, 10.0], [20.0, 1.0, 60.0]], 'tir': {'angle': 0, 'potencia': [0.0, 0.0, 0.0], 'sphere': [34.19823186686186, 1.0, 10.0]}}\n",
      "{'sphere_position': [[10.0, 1.0, 10.0], [30.0, 1.0, 10.0], [20.0, 1.0, 60.0]], 'tir': {'angle': 0, 'potencia': [-16.0, 0.0, 0.0], 'sphere': [10.0, 1.0, 10.0]}}\n",
      "{'sphere_position': [[19.679851694818648, 1.0, 10.0], [33.906461316030565, 1.0, 33.918718461158], [20.0, 1.0, 60.0]], 'tir': {'angle': 0, 'potencia': [0.0, 0.0, 0.0], 'sphere': [19.679851694818648, 1.0, 10.0]}}\n",
      "{'sphere_position': [[19.679851694818648, 1.0, 10.0], [37.68883330516762, 1.0, 10.0], [20.0, 1.0, 60.0]], 'tir': {'angle': -93, 'potencia': [0.6672821044921875, 0.0, 12.732525825500488], 'sphere': [37.68883330516762, 1.0, 10.0]}}\n"
     ]
    }
   ],
   "source": [
    "for game in game_data:\n",
    "    for player in game.keys():\n",
    "        for turn in game[player].keys():\n",
    "            for status in game[player][turn].keys():\n",
    "                print(game[player][turn][status])\n",
    "                break"
   ]
  },
  {
   "cell_type": "markdown",
   "metadata": {},
   "source": [
    "We want to create a heatmap, the map will be the billiards table. The dimensions of the heat map will be related to the coordinates of the heatmap, meaning that a \"square\" of the heatmap will be related to its position in the table."
   ]
  },
  {
   "cell_type": "code",
   "execution_count": 70,
   "metadata": {},
   "outputs": [],
   "source": [
    "# We need to have all the positions the spheres have been, in order to do this we will create a df with the positions\n",
    "positions = []\n",
    "for game in game_data:\n",
    "    for player in game.keys():\n",
    "        for turn in game[player].keys():\n",
    "            for status in game[player][turn].keys():\n",
    "                if status == 'played':\n",
    "                    for frame in game[player][turn][status].keys():\n",
    "                        for position in game[player][turn][status][frame]['sphere_position']:\n",
    "                            positions.append([int(position[0]), int(position[2])])\n",
    "                else:\n",
    "                    for position in game[player][turn][status]['sphere_position']:\n",
    "                        positions.append([int(position[0]), int(position[2])])\n",
    "\n",
    "positions_array = np.array(positions)"
   ]
  },
  {
   "cell_type": "code",
   "execution_count": 71,
   "metadata": {},
   "outputs": [
    {
     "name": "stdout",
     "output_type": "stream",
     "text": [
      "4401\n"
     ]
    }
   ],
   "source": [
    "print(len(positions_array))"
   ]
  },
  {
   "cell_type": "code",
   "execution_count": 81,
   "metadata": {},
   "outputs": [
    {
     "data": {
      "image/png": "[encoded data removed]",
      "text/plain": [
       "<Figure size 640x480 with 2 Axes>"
      ]
     },
     "metadata": {},
     "output_type": "display_data"
    }
   ],
   "source": [
    "grid = [int(TABLE_WIDTH), int(TABLE_LENGTH)]\n",
    "grid = np.full(grid, 10.0)\n",
    "for pos in positions_array:\n",
    "    pos_final_x = int(TABLE_WIDTH) - pos[0]\n",
    "    pos_final_y = int(TABLE_LENGTH) - pos[1]\n",
    "    if grid[pos_final_x, pos_final_y] > 0:\n",
    "        grid[pos_final_x, pos_final_y] -= 0.1\n",
    "\n",
    "ax = sns.heatmap(grid, linewidth=0.4)\n",
    "plt.show()"
   ]
  },
  {
   "cell_type": "code",
   "execution_count": 96,
   "metadata": {},
   "outputs": [],
   "source": [
    "def total_shots(game_data, shots_correct = False):\n",
    "    sum_shots = 0\n",
    "    scored = 0\n",
    "    for game in game_data:\n",
    "        for player in game.keys():\n",
    "            for turn in game[player].keys():\n",
    "                for status in game[player][turn].keys():\n",
    "                    if status == 'ended':\n",
    "                        sum_shots += 1\n",
    "                        if game[player][turn][status]['scored'] == True:\n",
    "                            scored += 1\n",
    "    if shots_correct:\n",
    "        return sum_shots, scored\n",
    "    return sum_shots\n"
   ]
  },
  {
   "cell_type": "code",
   "execution_count": 97,
   "metadata": {},
   "outputs": [
    {
     "data": {
      "text/plain": [
       "(3, 0)"
      ]
     },
     "execution_count": 97,
     "metadata": {},
     "output_type": "execute_result"
    }
   ],
   "source": [
    "total_shots(game_data, shots_correct = True)"
   ]
  },
  {
   "cell_type": "code",
   "execution_count": null,
   "metadata": {},
   "outputs": [],
   "source": []
  }
 ],
 "metadata": {
  "kernelspec": {
   "display_name": "Python 3.10.0 64-bit",
   "language": "python",
   "name": "python3"
  },
  "language_info": {
   "codemirror_mode": {
    "name": "ipython",
    "version": 3
   },
   "file_extension": ".py",
   "mimetype": "text/x-python",
   "name": "python",
   "nbconvert_exporter": "python",
   "pygments_lexer": "ipython3",
   "version": "3.10.0"
  },
  "orig_nbformat": 4,
  "vscode": {
   "interpreter": {
    "hash": "3cac059eaf2e27067e822612ef411fdb3eea7a767a012b6a1125da326188058a"
   }
  }
 },
 "nbformat": 4,
 "nbformat_minor": 2
}
